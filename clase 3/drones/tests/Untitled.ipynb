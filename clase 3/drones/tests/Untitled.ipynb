{
 "cells": [
  {
   "cell_type": "code",
   "execution_count": 16,
   "id": "3ca32a47-8298-43a4-add7-8ca4628090dc",
   "metadata": {},
   "outputs": [],
   "source": [
    "import sys\n",
    "import os\n",
    "\n",
    "# Añadir la ruta al directorio del paquete drones\n",
    "sys.path.append(os.path.abspath('/Users/danielarango/Documents/Programacion/clase3/drones'))"
   ]
  },
  {
   "cell_type": "code",
   "execution_count": 17,
   "id": "a4bcc64c",
   "metadata": {},
   "outputs": [],
   "source": [
    "from src.drones.models.quadcopter import Quadcopter\n",
    "from src.drones.models.commands import Forward, Backward, Turn_left, Take_off, Land, Turn_right\n"
   ]
  },
  {
   "cell_type": "code",
   "execution_count": null,
   "id": "5339e730",
   "metadata": {},
   "outputs": [
    {
     "name": "stdout",
     "output_type": "stream",
     "text": [
      "<bound method Drone.follow_commands of <src.drones.models.quadcopter.Quadcopter object at 0x10765bb20>>\n"
     ]
    }
   ],
   "source": [
    "\n",
    "drone = Quadcopter(\"raptor\", 0, 0, [Take_off()])\n",
    "print(drone.follow_commands)\n",
    "print() drone.x == 0\n",
    "assert drone.y == 0"
   ]
  },
  {
   "cell_type": "code",
   "execution_count": 18,
   "id": "bc2e576b",
   "metadata": {},
   "outputs": [],
   "source": [
    "def main():\n",
    "    drones = []\n",
    "    drones.append(Quadcopter(\"raptor\", 0, 0, [Take_off(), Forward(5),Land()]))\n",
    "    for drone in drones:\n",
    "        drone.follow_commands()\n",
    "\n"
   ]
  },
  {
   "cell_type": "code",
   "execution_count": 19,
   "id": "62e263de",
   "metadata": {},
   "outputs": [
    {
     "name": "stdout",
     "output_type": "stream",
     "text": [
      "QC:raptor: Taking off - Battery: 100%\n",
      "QC:raptor: Position: (0, 0) - Battery: 95%\n",
      "QC:raptor: Moving forward 5 units - Battery: 90%\n",
      "QC:raptor: Position: (0, 5) - Battery: 90%\n",
      "QC:raptor: landing - Battery: 90%\n",
      "QC:raptor: Position: (0, 5) - Battery: 90%\n",
      "QC:raptor: Sequence completed - repeating - Battery: 90%\n",
      "QC:raptor: Taking off - Battery: 90%\n",
      "QC:raptor: Position: (0, 5) - Battery: 85%\n",
      "QC:raptor: Moving forward 5 units - Battery: 80%\n",
      "QC:raptor: Position: (0, 10) - Battery: 80%\n",
      "QC:raptor: landing - Battery: 80%\n",
      "QC:raptor: Position: (0, 10) - Battery: 80%\n",
      "QC:raptor: Sequence completed - repeating - Battery: 80%\n",
      "QC:raptor: Taking off - Battery: 80%\n",
      "QC:raptor: Position: (0, 10) - Battery: 75%\n",
      "QC:raptor: Moving forward 5 units - Battery: 70%\n",
      "QC:raptor: Position: (0, 15) - Battery: 70%\n",
      "QC:raptor: landing - Battery: 70%\n",
      "QC:raptor: Position: (0, 15) - Battery: 70%\n",
      "QC:raptor: Sequence completed - repeating - Battery: 70%\n",
      "QC:raptor: Taking off - Battery: 70%\n",
      "QC:raptor: Position: (0, 15) - Battery: 65%\n",
      "QC:raptor: Moving forward 5 units - Battery: 60%\n",
      "QC:raptor: Position: (0, 20) - Battery: 60%\n",
      "QC:raptor: landing - Battery: 60%\n",
      "QC:raptor: Position: (0, 20) - Battery: 60%\n",
      "QC:raptor: Sequence completed - repeating - Battery: 60%\n",
      "QC:raptor: Taking off - Battery: 60%\n",
      "QC:raptor: Position: (0, 20) - Battery: 55%\n",
      "QC:raptor: Moving forward 5 units - Battery: 50%\n",
      "QC:raptor: Position: (0, 25) - Battery: 50%\n",
      "QC:raptor: landing - Battery: 50%\n",
      "QC:raptor: Position: (0, 25) - Battery: 50%\n",
      "QC:raptor: Sequence completed - repeating - Battery: 50%\n",
      "QC:raptor: Taking off - Battery: 50%\n",
      "QC:raptor: Position: (0, 25) - Battery: 45%\n",
      "QC:raptor: Moving forward 5 units - Battery: 40%\n",
      "QC:raptor: Position: (0, 30) - Battery: 40%\n",
      "QC:raptor: landing - Battery: 40%\n",
      "QC:raptor: Position: (0, 30) - Battery: 40%\n",
      "QC:raptor: Sequence completed - repeating - Battery: 40%\n",
      "QC:raptor: Taking off - Battery: 40%\n",
      "QC:raptor: Position: (0, 30) - Battery: 35%\n",
      "QC:raptor: Moving forward 5 units - Battery: 30%\n",
      "QC:raptor: Position: (0, 35) - Battery: 30%\n",
      "QC:raptor: landing - Battery: 30%\n",
      "QC:raptor: Position: (0, 35) - Battery: 30%\n",
      "QC:raptor: Sequence completed - repeating - Battery: 30%\n",
      "QC:raptor: Taking off - Battery: 30%\n",
      "QC:raptor: Position: (0, 35) - Battery: 25%\n",
      "QC:raptor: Moving forward 5 units - Battery: 20%\n",
      "QC:raptor: Position: (0, 40) - Battery: 20%\n",
      "QC:raptor: landing - Battery: 20%\n",
      "QC:raptor: Position: (0, 40) - Battery: 20%\n",
      "QC:raptor: Sequence completed - repeating - Battery: 20%\n",
      "QC:raptor: Taking off - Battery: 20%\n",
      "QC:raptor: Position: (0, 40) - Battery: 15%\n",
      "QC:raptor: Moving forward 5 units - Battery: 10%\n",
      "QC:raptor: Position: (0, 45) - Battery: 10%\n",
      "QC:raptor: landing - Battery: 10%\n",
      "QC:raptor: Position: (0, 45) - Battery: 10%\n",
      "QC:raptor: Sequence completed - repeating - Battery: 10%\n",
      "QC:raptor: Taking off - Battery: 10%\n",
      "QC:raptor: Position: (0, 45) - Battery: 5%\n",
      "QC:raptor: Moving forward 5 units - Battery: 0%\n",
      "QC:raptor: Position: (0, 50) - Battery: 0%\n",
      "QC:raptor: Battery empty - landing - Battery: 0%\n"
     ]
    }
   ],
   "source": [
    "if __name__ == \"__main__\":\n",
    "\n",
    "    main()\n"
   ]
  },
  {
   "cell_type": "code",
   "execution_count": 20,
   "id": "6757403b",
   "metadata": {},
   "outputs": [
    {
     "name": "stdout",
     "output_type": "stream",
     "text": [
      "['awfnm', 'uplly', 'pyhot', 'ltvkp', 'jnexh', 'gzxmx', 'fezeu', 'pdewa', 'xaona', 'dfawo']\n"
     ]
    }
   ],
   "source": [
    "import random\n",
    "import string\n",
    "\n",
    "def generate_random_name(length=5):\n",
    "    letters = string.ascii_lowercase\n",
    "    return ''.join(random.choice(letters) for i in range(length))\n",
    "\n",
    "def generate_unique_names(count, length=5):\n",
    "    unique_names = set()\n",
    "    while len(unique_names) < count:\n",
    "        unique_names.add(generate_random_name(length))\n",
    "    return list(unique_names)\n",
    "\n",
    "# Generar 10 nombres únicos y almacenarlos en un vector\n",
    "num_names = 10\n",
    "names_vector = generate_unique_names(num_names)\n",
    "print(names_vector)"
   ]
  }
 ],
 "metadata": {
  "kernelspec": {
   "display_name": "Python 3",
   "language": "python",
   "name": "python3"
  },
  "language_info": {
   "codemirror_mode": {
    "name": "ipython",
    "version": 3
   },
   "file_extension": ".py",
   "mimetype": "text/x-python",
   "name": "python",
   "nbconvert_exporter": "python",
   "pygments_lexer": "ipython3",
   "version": "3.9.6"
  }
 },
 "nbformat": 4,
 "nbformat_minor": 5
}
